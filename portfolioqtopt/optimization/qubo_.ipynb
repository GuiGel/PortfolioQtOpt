{
 "cells": [
  {
   "cell_type": "code",
   "execution_count": 13,
   "metadata": {},
   "outputs": [],
   "source": [
    "from portfolioqtopt.optimization.assets_ import Assets\n",
    "import numpy as np\n",
    "\n",
    "\n",
    "prices = np.array([\n",
    "    [100, 102, 104, 108, 116],\n",
    "    [10, 10.3, 10.9, 10.27, 10.81],\n",
    "    [100, 104, 116, 164, 356],\n",
    "]).T\n",
    "a = Assets(prices)"
   ]
  },
  {
   "cell_type": "code",
   "execution_count": 15,
   "metadata": {},
   "outputs": [
    {
     "data": {
      "text/plain": [
       "array([0.16 , 0.081, 2.56 ])"
      ]
     },
     "execution_count": 15,
     "metadata": {},
     "output_type": "execute_result"
    }
   ],
   "source": [
    "a.anual_returns"
   ]
  },
  {
   "cell_type": "code",
   "execution_count": 17,
   "metadata": {},
   "outputs": [
    {
     "data": {
      "text/plain": [
       "array([0.03803586, 0.02075865, 0.43497736])"
      ]
     },
     "execution_count": 17,
     "metadata": {},
     "output_type": "execute_result"
    }
   ],
   "source": [
    "a.average_daily_returns"
   ]
  },
  {
   "cell_type": "code",
   "execution_count": 18,
   "metadata": {},
   "outputs": [
    {
     "data": {
      "text/plain": [
       "array([0.03448276, 0.01873265, 0.17977528])"
      ]
     },
     "execution_count": 18,
     "metadata": {},
     "output_type": "execute_result"
    }
   ],
   "source": [
    "a.normalized_prices_approx"
   ]
  },
  {
   "cell_type": "code",
   "execution_count": 19,
   "metadata": {},
   "outputs": [
    {
     "data": {
      "text/plain": [
       "array([[0.86206897, 0.92506938, 0.28089888],\n",
       "       [0.87931034, 0.95282146, 0.29213483],\n",
       "       [0.89655172, 1.00832562, 0.3258427 ],\n",
       "       [0.93103448, 0.95004625, 0.46067416],\n",
       "       [1.        , 1.        , 1.        ]])"
      ]
     },
     "execution_count": 19,
     "metadata": {},
     "output_type": "execute_result"
    }
   ],
   "source": [
    "a.normalized_prices"
   ]
  },
  {
   "cell_type": "code",
   "execution_count": 24,
   "metadata": {},
   "outputs": [],
   "source": [
    "from portfolioqtopt.optimization.qubo_factory_ import *\n",
    "\n",
    "pw = get_pw(6)\n",
    "\n",
    "b = get_anual_returns_partition(a, pw)\n",
    "c = expand(a.anual_returns, pw, 1)\n",
    "np.testing.assert_equal(b, c)"
   ]
  },
  {
   "cell_type": "code",
   "execution_count": 29,
   "metadata": {},
   "outputs": [],
   "source": [
    "b = get_average_daily_returns_partition_tecnalia(a, pw)\n",
    "c = expand(a.normalized_prices_approx, pw, 1)\n",
    "np.testing.assert_equal(b, c)"
   ]
  },
  {
   "cell_type": "code",
   "execution_count": 32,
   "metadata": {},
   "outputs": [],
   "source": [
    "b = get_average_daily_returns_partition_(a, pw)\n",
    "c = expand(a.average_daily_returns, pw, 1)\n",
    "np.testing.assert_equal(b, c)"
   ]
  },
  {
   "cell_type": "code",
   "execution_count": 36,
   "metadata": {},
   "outputs": [],
   "source": [
    "b = get_normalized_prices_partition(a, pw, 1)\n",
    "c = expand(a.normalized_prices, pw, 1)\n",
    "np.testing.assert_equal(b, c)"
   ]
  }
 ],
 "metadata": {
  "kernelspec": {
   "display_name": ".venv",
   "language": "python",
   "name": "python3"
  },
  "language_info": {
   "codemirror_mode": {
    "name": "ipython",
    "version": 3
   },
   "file_extension": ".py",
   "mimetype": "text/x-python",
   "name": "python",
   "nbconvert_exporter": "python",
   "pygments_lexer": "ipython3",
   "version": "3.9.9"
  },
  "orig_nbformat": 4,
  "vscode": {
   "interpreter": {
    "hash": "4e53c68c700719980650b817aed9fefb267db247c441e47a4b2ec15b097b7a7b"
   }
  }
 },
 "nbformat": 4,
 "nbformat_minor": 2
}
