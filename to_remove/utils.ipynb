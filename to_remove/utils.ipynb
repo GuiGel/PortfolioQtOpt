{
 "cells": [
  {
   "cell_type": "code",
   "execution_count": 1,
   "metadata": {},
   "outputs": [
    {
     "name": "stderr",
     "output_type": "stream",
     "text": [
      "2023-01-20 11:55:59.670 | INFO     | __main__:<module>:13 - df.shape=(375, 45)\n"
     ]
    }
   ],
   "source": [
    "import numpy as np\n",
    "from loguru import logger\n",
    "\n",
    "from portfolioqtopt.optimization.markovitz_portfolio import Selection\n",
    "from portfolioqtopt.optimization.optimizer import Optimizer, SolverTypes\n",
    "from portfolioqtopt.optimization.qubo import QuboFactory\n",
    "from portfolioqtopt.reader import read_welzia_stocks_file\n",
    "\n",
    "file_path = \"/home/ggelabert/Projects/PortfolioQtOpt/data/Histórico_carteras_Welzia_2018.xlsm\"\n",
    "sheet_name = \"BBG (valores)\"\n",
    "\n",
    "df = read_welzia_stocks_file(file_path, sheet_name)\n",
    "logger.info(f\"{df.shape=}\")\n",
    "w = 5\n",
    "b = 1.0\n",
    "selection = Selection(df.to_numpy(), w, b)\n",
    "qubo_factory = QuboFactory(selection, 0.9, 0.4, 0.1)"
   ]
  },
  {
   "cell_type": "code",
   "execution_count": 2,
   "metadata": {},
   "outputs": [],
   "source": [
    "from portfolioqtopt.optimization.utils import get_partitions_granularity\n",
    "w = 5\n",
    "b = 1.0"
   ]
  },
  {
   "cell_type": "code",
   "execution_count": 3,
   "metadata": {},
   "outputs": [],
   "source": [
    "pw = get_partitions_granularity(w)"
   ]
  },
  {
   "cell_type": "code",
   "execution_count": 1,
   "metadata": {},
   "outputs": [],
   "source": [
    "import numpy as np\n",
    "prices = np.array([[100, 50, 10, 5], [10, 5, 1, 0.5]]).T\n",
    "n, m = prices.shape\n",
    "p = m * w\n",
    "factor = 1 / prices[-1, :]\n",
    "normalized_prices = prices * factor\n",
    "_npp = (normalized_prices[..., None] * pw)  # (n, m, w)\n",
    "npp = _npp.reshape(n, -1).shape  # (n, p)"
   ]
  },
  {
   "cell_type": "code",
   "execution_count": 5,
   "metadata": {},
   "outputs": [
    {
     "data": {
      "text/plain": [
       "(4, 2)"
      ]
     },
     "execution_count": 5,
     "metadata": {},
     "output_type": "execute_result"
    }
   ],
   "source": [
    "normalized_prices.shape"
   ]
  },
  {
   "cell_type": "code",
   "execution_count": 6,
   "metadata": {},
   "outputs": [],
   "source": [
    "\n",
    "# broadcast to m\n",
    "import numpy as np\n",
    "\n",
    "def get_extend_partitions_granularity(pw, m):\n",
    "    pw_extend = np.zeros((m, 1)) + pw[None, :]\n",
    "    return pw_extend.flatten()"
   ]
  },
  {
   "cell_type": "code",
   "execution_count": 7,
   "metadata": {},
   "outputs": [
    {
     "name": "stdout",
     "output_type": "stream",
     "text": [
      "2.8 µs ± 325 ns per loop (mean ± std. dev. of 7 runs, 100,000 loops each)\n"
     ]
    }
   ],
   "source": [
    "%%timeit\n",
    "m = 4\n",
    "ed_pw = get_extend_partitions_granularity(pw, m)"
   ]
  },
  {
   "cell_type": "code",
   "execution_count": 8,
   "metadata": {},
   "outputs": [
    {
     "data": {
      "text/plain": [
       "array([1.    , 0.5   , 0.25  , 0.125 , 0.0625, 1.    , 0.5   , 0.25  ,\n",
       "       0.125 , 0.0625, 1.    , 0.5   , 0.25  , 0.125 , 0.0625, 1.    ,\n",
       "       0.5   , 0.25  , 0.125 , 0.0625])"
      ]
     },
     "execution_count": 8,
     "metadata": {},
     "output_type": "execute_result"
    }
   ],
   "source": [
    "m = 4\n",
    "ed_pw = get_extend_partitions_granularity(pw, m)\n",
    "ed_pw"
   ]
  },
  {
   "cell_type": "code",
   "execution_count": 9,
   "metadata": {},
   "outputs": [
    {
     "data": {
      "text/plain": [
       "(4, 10)"
      ]
     },
     "execution_count": 9,
     "metadata": {},
     "output_type": "execute_result"
    }
   ],
   "source": [
    "s = Selection(prices, w, b)\n",
    "s.npp.shape"
   ]
  },
  {
   "cell_type": "code",
   "execution_count": 10,
   "metadata": {},
   "outputs": [
    {
     "data": {
      "text/plain": [
       "array([-0.6   , -0.3   , -0.15  , -0.075 , -0.0375, -0.6   , -0.3   ,\n",
       "       -0.15  , -0.075 , -0.0375])"
      ]
     },
     "execution_count": 10,
     "metadata": {},
     "output_type": "execute_result"
    }
   ],
   "source": [
    "average_daily_returns = (np.diff(prices, axis=0) / prices[:-1]).mean(axis=0)  # (m, )\n",
    "(average_daily_returns[:, None] * pw[None, :]).flatten()"
   ]
  },
  {
   "cell_type": "code",
   "execution_count": 11,
   "metadata": {},
   "outputs": [
    {
     "data": {
      "text/plain": [
       "(array([-31.66666667,  -3.16666667]),\n",
       " array([[-50. ,  -5. ],\n",
       "        [-40. ,  -4. ],\n",
       "        [ -5. ,  -0.5]]))"
      ]
     },
     "execution_count": 11,
     "metadata": {},
     "output_type": "execute_result"
    }
   ],
   "source": [
    "(prices[1:] - prices[:-1]).mean(axis=0), np.diff(prices, axis=0)"
   ]
  },
  {
   "cell_type": "code",
   "execution_count": 12,
   "metadata": {},
   "outputs": [
    {
     "data": {
      "text/plain": [
       "array([-0.6   , -0.3   , -0.15  , -0.075 , -0.0375, -0.6   , -0.3   ,\n",
       "       -0.15  , -0.075 , -0.0375])"
      ]
     },
     "execution_count": 12,
     "metadata": {},
     "output_type": "execute_result"
    }
   ],
   "source": [
    "s._expected_returns"
   ]
  },
  {
   "cell_type": "code",
   "execution_count": 1,
   "metadata": {},
   "outputs": [],
   "source": [
    "from portfolioqtopt.optimization.utils import *\n",
    "from portfolioqtopt.optimization.markovitz_portfolio import Selection\n",
    "from portfolioqtopt.optimization.qubo import QuboFactory\n",
    "import numpy as np\n",
    "\n",
    "w = 5\n",
    "prices = np.array([[100, 50, 10, 5], [10, 5, 1, 0.5]]).T\n",
    "n, m = prices.shape\n",
    "p = m * w\n",
    "b = 1\n",
    "selection = Selection(prices, w, b)\n",
    "qubo = QuboFactory(selection, 0.1, 0.1, 0.1)\n",
    "\n",
    "pw = get_partitions_granularity(w)\n",
    "\n",
    "np_ = get_normalized_prices(prices, b)\n",
    "npp = get_normalized_prices_partition(np_, pw)\n",
    "np.testing.assert_equal(selection.npp, npp)"
   ]
  },
  {
   "cell_type": "code",
   "execution_count": 2,
   "metadata": {},
   "outputs": [
    {
     "data": {
      "text/plain": [
       "{(0, 0): 10.825,\n",
       " (0, 1): 7.8583333333333325,\n",
       " (0, 2): 3.9291666666666663,\n",
       " (0, 3): 1.9645833333333331,\n",
       " (0, 4): 0.9822916666666666,\n",
       " (0, 5): 15.716666666666665,\n",
       " (0, 6): 7.8583333333333325,\n",
       " (0, 7): 3.9291666666666663,\n",
       " (0, 8): 1.9645833333333331,\n",
       " (0, 9): 0.9822916666666666,\n",
       " (1, 0): 0.0,\n",
       " (1, 1): 3.4479166666666665,\n",
       " (1, 2): 1.9645833333333331,\n",
       " (1, 3): 0.9822916666666666,\n",
       " (1, 4): 0.4911458333333333,\n",
       " (1, 5): 7.8583333333333325,\n",
       " (1, 6): 3.9291666666666663,\n",
       " (1, 7): 1.9645833333333331,\n",
       " (1, 8): 0.9822916666666666,\n",
       " (1, 9): 0.4911458333333333,\n",
       " (2, 0): 0.0,\n",
       " (2, 1): 0.0,\n",
       " (2, 2): 1.2328125,\n",
       " (2, 3): 0.4911458333333333,\n",
       " (2, 4): 0.24557291666666664,\n",
       " (2, 5): 3.9291666666666663,\n",
       " (2, 6): 1.9645833333333331,\n",
       " (2, 7): 0.9822916666666666,\n",
       " (2, 8): 0.4911458333333333,\n",
       " (2, 9): 0.24557291666666664,\n",
       " (3, 0): 0.0,\n",
       " (3, 1): 0.0,\n",
       " (3, 2): 0.0,\n",
       " (3, 3): 0.4936197916666667,\n",
       " (3, 4): 0.12278645833333332,\n",
       " (3, 5): 1.9645833333333331,\n",
       " (3, 6): 0.9822916666666666,\n",
       " (3, 7): 0.4911458333333333,\n",
       " (3, 8): 0.24557291666666664,\n",
       " (3, 9): 0.12278645833333332,\n",
       " (4, 0): 0.0,\n",
       " (4, 1): 0.0,\n",
       " (4, 2): 0.0,\n",
       " (4, 3): 0.0,\n",
       " (4, 4): 0.21611328125,\n",
       " (4, 5): 0.9822916666666666,\n",
       " (4, 6): 0.4911458333333333,\n",
       " (4, 7): 0.24557291666666664,\n",
       " (4, 8): 0.12278645833333332,\n",
       " (4, 9): 0.06139322916666666,\n",
       " (5, 0): 0.0,\n",
       " (5, 1): 0.0,\n",
       " (5, 2): 0.0,\n",
       " (5, 3): 0.0,\n",
       " (5, 4): 0.0,\n",
       " (5, 5): 7.974999999999999,\n",
       " (5, 6): 7.8583333333333325,\n",
       " (5, 7): 3.9291666666666663,\n",
       " (5, 8): 1.9645833333333331,\n",
       " (5, 9): 0.9822916666666666,\n",
       " (6, 0): 0.0,\n",
       " (6, 1): 0.0,\n",
       " (6, 2): 0.0,\n",
       " (6, 3): 0.0,\n",
       " (6, 4): 0.0,\n",
       " (6, 5): 0.0,\n",
       " (6, 6): 2.0229166666666663,\n",
       " (6, 7): 1.9645833333333331,\n",
       " (6, 8): 0.9822916666666666,\n",
       " (6, 9): 0.4911458333333333,\n",
       " (7, 0): 0.0,\n",
       " (7, 1): 0.0,\n",
       " (7, 2): 0.0,\n",
       " (7, 3): 0.0,\n",
       " (7, 4): 0.0,\n",
       " (7, 5): 0.0,\n",
       " (7, 6): 0.0,\n",
       " (7, 7): 0.5203125,\n",
       " (7, 8): 0.4911458333333333,\n",
       " (7, 9): 0.24557291666666664,\n",
       " (8, 0): 0.0,\n",
       " (8, 1): 0.0,\n",
       " (8, 2): 0.0,\n",
       " (8, 3): 0.0,\n",
       " (8, 4): 0.0,\n",
       " (8, 5): 0.0,\n",
       " (8, 6): 0.0,\n",
       " (8, 7): 0.0,\n",
       " (8, 8): 0.13736979166666666,\n",
       " (8, 9): 0.12278645833333332,\n",
       " (9, 0): 0.0,\n",
       " (9, 1): 0.0,\n",
       " (9, 2): 0.0,\n",
       " (9, 3): 0.0,\n",
       " (9, 4): 0.0,\n",
       " (9, 5): 0.0,\n",
       " (9, 6): 0.0,\n",
       " (9, 7): 0.0,\n",
       " (9, 8): 0.0,\n",
       " (9, 9): 0.03798828124999999}"
      ]
     },
     "execution_count": 2,
     "metadata": {},
     "output_type": "execute_result"
    }
   ],
   "source": [
    "qubo = get_qubo(prices, b, w,  0.1, 0.1, 0.1)\n",
    "qubo"
   ]
  },
  {
   "cell_type": "code",
   "execution_count": 41,
   "metadata": {},
   "outputs": [
    {
     "data": {
      "text/plain": [
       "{(0, 0): 8.291666666666666,\n",
       " (0, 1): 7.8583333333333325,\n",
       " (0, 2): 3.9291666666666663,\n",
       " (0, 3): 1.9645833333333331,\n",
       " (0, 4): 0.9822916666666666,\n",
       " (0, 5): 15.716666666666665,\n",
       " (0, 6): 7.8583333333333325,\n",
       " (0, 7): 3.9291666666666663,\n",
       " (0, 8): 1.9645833333333331,\n",
       " (0, 9): 0.9822916666666666,\n",
       " (1, 0): 0.0,\n",
       " (1, 1): 2.18125,\n",
       " (1, 2): 1.9645833333333331,\n",
       " (1, 3): 0.9822916666666666,\n",
       " (1, 4): 0.4911458333333333,\n",
       " (1, 5): 7.8583333333333325,\n",
       " (1, 6): 3.9291666666666663,\n",
       " (1, 7): 1.9645833333333331,\n",
       " (1, 8): 0.9822916666666666,\n",
       " (1, 9): 0.4911458333333333,\n",
       " (2, 0): 0.0,\n",
       " (2, 1): 0.0,\n",
       " (2, 2): 0.5994791666666667,\n",
       " (2, 3): 0.4911458333333333,\n",
       " (2, 4): 0.24557291666666664,\n",
       " (2, 5): 3.9291666666666663,\n",
       " (2, 6): 1.9645833333333331,\n",
       " (2, 7): 0.9822916666666666,\n",
       " (2, 8): 0.4911458333333333,\n",
       " (2, 9): 0.24557291666666664,\n",
       " (3, 0): 0.0,\n",
       " (3, 1): 0.0,\n",
       " (3, 2): 0.0,\n",
       " (3, 3): 0.176953125,\n",
       " (3, 4): 0.12278645833333332,\n",
       " (3, 5): 1.9645833333333331,\n",
       " (3, 6): 0.9822916666666666,\n",
       " (3, 7): 0.4911458333333333,\n",
       " (3, 8): 0.24557291666666664,\n",
       " (3, 9): 0.12278645833333332,\n",
       " (4, 0): 0.0,\n",
       " (4, 1): 0.0,\n",
       " (4, 2): 0.0,\n",
       " (4, 3): 0.0,\n",
       " (4, 4): 0.05777994791666667,\n",
       " (4, 5): 0.9822916666666666,\n",
       " (4, 6): 0.4911458333333333,\n",
       " (4, 7): 0.24557291666666664,\n",
       " (4, 8): 0.12278645833333332,\n",
       " (4, 9): 0.06139322916666666,\n",
       " (5, 0): 0.0,\n",
       " (5, 1): 0.0,\n",
       " (5, 2): 0.0,\n",
       " (5, 3): 0.0,\n",
       " (5, 4): 0.0,\n",
       " (5, 5): 8.291666666666666,\n",
       " (5, 6): 7.8583333333333325,\n",
       " (5, 7): 3.9291666666666663,\n",
       " (5, 8): 1.9645833333333331,\n",
       " (5, 9): 0.9822916666666666,\n",
       " (6, 0): 0.0,\n",
       " (6, 1): 0.0,\n",
       " (6, 2): 0.0,\n",
       " (6, 3): 0.0,\n",
       " (6, 4): 0.0,\n",
       " (6, 5): 0.0,\n",
       " (6, 6): 2.18125,\n",
       " (6, 7): 1.9645833333333331,\n",
       " (6, 8): 0.9822916666666666,\n",
       " (6, 9): 0.4911458333333333,\n",
       " (7, 0): 0.0,\n",
       " (7, 1): 0.0,\n",
       " (7, 2): 0.0,\n",
       " (7, 3): 0.0,\n",
       " (7, 4): 0.0,\n",
       " (7, 5): 0.0,\n",
       " (7, 6): 0.0,\n",
       " (7, 7): 0.5994791666666666,\n",
       " (7, 8): 0.4911458333333333,\n",
       " (7, 9): 0.24557291666666664,\n",
       " (8, 0): 0.0,\n",
       " (8, 1): 0.0,\n",
       " (8, 2): 0.0,\n",
       " (8, 3): 0.0,\n",
       " (8, 4): 0.0,\n",
       " (8, 5): 0.0,\n",
       " (8, 6): 0.0,\n",
       " (8, 7): 0.0,\n",
       " (8, 8): 0.176953125,\n",
       " (8, 9): 0.12278645833333332,\n",
       " (9, 0): 0.0,\n",
       " (9, 1): 0.0,\n",
       " (9, 2): 0.0,\n",
       " (9, 3): 0.0,\n",
       " (9, 4): 0.0,\n",
       " (9, 5): 0.0,\n",
       " (9, 6): 0.0,\n",
       " (9, 7): 0.0,\n",
       " (9, 8): 0.0,\n",
       " (9, 9): 0.05777994791666666}"
      ]
     },
     "execution_count": 41,
     "metadata": {},
     "output_type": "execute_result"
    }
   ],
   "source": [
    "qubo.qubo.dictionary"
   ]
  },
  {
   "cell_type": "code",
   "execution_count": 44,
   "metadata": {},
   "outputs": [
    {
     "name": "stdout",
     "output_type": "stream",
     "text": [
      "((0, 0), 10.825) ((0, 0), 8.291666666666666)\n",
      "((1, 1), 3.4479166666666665) ((1, 1), 2.18125)\n",
      "((2, 2), 1.2328125) ((2, 2), 0.5994791666666667)\n",
      "((3, 3), 0.4936197916666667) ((3, 3), 0.176953125)\n",
      "((4, 4), 0.21611328125) ((4, 4), 0.05777994791666667)\n",
      "((5, 5), 7.974999999999999) ((5, 5), 8.291666666666666)\n",
      "((6, 6), 2.0229166666666663) ((6, 6), 2.18125)\n",
      "((7, 7), 0.5203125) ((7, 7), 0.5994791666666666)\n",
      "((8, 8), 0.13736979166666666) ((8, 8), 0.176953125)\n",
      "((9, 9), 0.03798828124999999) ((9, 9), 0.05777994791666666)\n"
     ]
    }
   ],
   "source": [
    "for k, v in zip(qubo_dict.items(), qubo.qubo.dictionary.items()):\n",
    "    if k != v:\n",
    "        print(k, v)"
   ]
  },
  {
   "cell_type": "code",
   "execution_count": 14,
   "metadata": {},
   "outputs": [
    {
     "name": "stdout",
     "output_type": "stream",
     "text": [
      "3.34 µs ± 447 ns per loop (mean ± std. dev. of 7 runs, 100,000 loops each)\n"
     ]
    }
   ],
   "source": [
    "%%timeit\n",
    "npp = get_normalized_prices_partition(np_, pw)"
   ]
  },
  {
   "cell_type": "code",
   "execution_count": 15,
   "metadata": {},
   "outputs": [
    {
     "name": "stdout",
     "output_type": "stream",
     "text": [
      "3.77 µs ± 563 ns per loop (mean ± std. dev. of 7 runs, 100,000 loops each)\n"
     ]
    }
   ],
   "source": [
    "%%timeit\n",
    "pw = get_partitions_granularity(w)\n",
    "np_ = get_normalized_prices(prices, b)"
   ]
  },
  {
   "cell_type": "code",
   "execution_count": 2,
   "metadata": {},
   "outputs": [],
   "source": [
    "a_ = get_average_daily_returns(prices)\n",
    "a_pw = get_average_daily_returns_partition(a_, pw)\n",
    "a_pw_ = selection._expected_returns\n",
    "np.testing.assert_equal(a_pw, a_pw_)"
   ]
  },
  {
   "cell_type": "code",
   "execution_count": 17,
   "metadata": {},
   "outputs": [
    {
     "name": "stdout",
     "output_type": "stream",
     "text": [
      "21.6 µs ± 2.2 µs per loop (mean ± std. dev. of 7 runs, 10,000 loops each)\n"
     ]
    }
   ],
   "source": [
    "%%timeit\n",
    "a_ = get_average_daily_returns(prices)\n",
    "a_pw = get_average_daily_returns_partition(a_, pw)"
   ]
  },
  {
   "cell_type": "code",
   "execution_count": 18,
   "metadata": {},
   "outputs": [
    {
     "name": "stdout",
     "output_type": "stream",
     "text": [
      "48.8 ns ± 3.87 ns per loop (mean ± std. dev. of 7 runs, 10,000,000 loops each)\n"
     ]
    }
   ],
   "source": [
    "%%timeit\n",
    "a_pw_ = selection._expected_returns"
   ]
  },
  {
   "cell_type": "code",
   "execution_count": 3,
   "metadata": {},
   "outputs": [
    {
     "data": {
      "text/plain": [
       "(array([1.    , 0.5   , 0.25  , 0.125 , 0.0625, 1.    , 0.5   , 0.25  ,\n",
       "        0.125 , 0.0625]),\n",
       " array([1.    , 0.5   , 0.25  , 0.125 , 0.0625]))"
      ]
     },
     "execution_count": 3,
     "metadata": {},
     "output_type": "execute_result"
    }
   ],
   "source": [
    "selection.npp_last, pw"
   ]
  },
  {
   "cell_type": "code",
   "execution_count": 4,
   "metadata": {},
   "outputs": [
    {
     "data": {
      "text/plain": [
       "array([1.    , 0.5   , 0.25  , 0.125 , 0.0625, 1.    , 0.5   , 0.25  ,\n",
       "       0.125 , 0.0625])"
      ]
     },
     "execution_count": 4,
     "metadata": {},
     "output_type": "execute_result"
    }
   ],
   "source": [
    "(np.zeros((m, 1)) + pw).flatten()"
   ]
  },
  {
   "cell_type": "code",
   "execution_count": 33,
   "metadata": {},
   "outputs": [],
   "source": [
    "np.testing.assert_equal(np.diag(selection._expected_returns), np.diag(a_pw))"
   ]
  },
  {
   "cell_type": "code",
   "execution_count": 3,
   "metadata": {},
   "outputs": [],
   "source": [
    "def get_qubo(prices, b, w):\n",
    "    # Compute the granularity partition\n",
    "    pw = get_partitions_granularity(w)\n",
    "\n",
    "    # Compute the  partition of the normalized prices\n",
    "    np_ = get_normalized_prices(prices, b)\n",
    "    npp = get_normalized_prices_partition(np_, pw)\n",
    "\n",
    "    # Compute the partitions of the average daily returns.\n",
    "    adr = get_average_daily_returns(prices)\n",
    "    adrp = get_average_daily_returns_partition(a_, pw)"
   ]
  },
  {
   "cell_type": "code",
   "execution_count": 4,
   "metadata": {},
   "outputs": [
    {
     "data": {
      "text/plain": [
       "array([1.    , 0.5   , 0.25  , 0.125 , 0.0625, 1.    , 0.5   , 0.25  ,\n",
       "       0.125 , 0.0625])"
      ]
     },
     "execution_count": 4,
     "metadata": {},
     "output_type": "execute_result"
    }
   ],
   "source": [
    "get_partitions_granularity_broadcast(pw, 2)\n",
    "pwb = np.zeros((m, 1)) + pw  # (m, p)\n",
    "pwb.flatten()"
   ]
  },
  {
   "cell_type": "code",
   "execution_count": 7,
   "metadata": {},
   "outputs": [
    {
     "data": {
      "text/plain": [
       "array([-6.33333333, -3.16666667, -1.58333333, -0.79166667, -0.39583333,\n",
       "       -6.33333333, -3.16666667, -1.58333333, -0.79166667, -0.39583333])"
      ]
     },
     "execution_count": 7,
     "metadata": {},
     "output_type": "execute_result"
    }
   ],
   "source": [
    "selection.expected_returns"
   ]
  },
  {
   "cell_type": "code",
   "execution_count": 13,
   "metadata": {},
   "outputs": [
    {
     "data": {
      "text/plain": [
       "array([-6.33333333, -3.16666667, -1.58333333, -0.79166667, -0.39583333,\n",
       "       -6.33333333, -3.16666667, -1.58333333, -0.79166667, -0.39583333])"
      ]
     },
     "execution_count": 13,
     "metadata": {},
     "output_type": "execute_result"
    }
   ],
   "source": [
    "approximate_average = (prices[-1, :] - prices[0, :]) / (n - 1)  # average of the normalized prices?\n",
    "factor = (b / prices[-1]).reshape(-1, 1)\n",
    "(approximate_average[:, np.newaxis] * pw * factor).flatten()"
   ]
  },
  {
   "cell_type": "code",
   "execution_count": 9,
   "metadata": {},
   "outputs": [
    {
     "ename": "NameError",
     "evalue": "name 'normalized_prices' is not defined",
     "output_type": "error",
     "traceback": [
      "\u001b[0;31m---------------------------------------------------------------------------\u001b[0m",
      "\u001b[0;31mNameError\u001b[0m                                 Traceback (most recent call last)",
      "Cell \u001b[0;32mIn[9], line 1\u001b[0m\n\u001b[0;32m----> 1\u001b[0m approximate_average \u001b[39m=\u001b[39m (normalized_prices[\u001b[39m-\u001b[39m\u001b[39m1\u001b[39m] \u001b[39m-\u001b[39m normalized_prices[\u001b[39m0\u001b[39m]) \u001b[39m/\u001b[39m (n \u001b[39m-\u001b[39m \u001b[39m1\u001b[39m)\n\u001b[1;32m      2\u001b[0m (approximate_average[\u001b[39m.\u001b[39m\u001b[39m.\u001b[39m\u001b[39m.\u001b[39m, \u001b[39mNone\u001b[39;00m]\u001b[39m*\u001b[39mpw\u001b[39m*\u001b[39mb)\u001b[39m.\u001b[39mflatten()\n",
      "\u001b[0;31mNameError\u001b[0m: name 'normalized_prices' is not defined"
     ]
    }
   ],
   "source": [
    "approximate_average = (normalized_prices[-1] - normalized_prices[0]) / (n - 1)\n",
    "(approximate_average[..., None]*pw*b).flatten()"
   ]
  },
  {
   "cell_type": "code",
   "execution_count": 9,
   "metadata": {},
   "outputs": [
    {
     "data": {
      "text/plain": [
       "array([[20., 20.],\n",
       "       [10., 10.],\n",
       "       [ 2.,  2.],\n",
       "       [ 1.,  1.]])"
      ]
     },
     "execution_count": 9,
     "metadata": {},
     "output_type": "execute_result"
    }
   ],
   "source": [
    "get_normalized_prices(prices, b)"
   ]
  },
  {
   "cell_type": "code",
   "execution_count": 12,
   "metadata": {},
   "outputs": [
    {
     "data": {
      "text/plain": [
       "array([-6.33333333, -3.16666667, -1.58333333, -0.79166667, -0.39583333,\n",
       "       -6.33333333, -3.16666667, -1.58333333, -0.79166667, -0.39583333])"
      ]
     },
     "execution_count": 12,
     "metadata": {},
     "output_type": "execute_result"
    }
   ],
   "source": [
    "a = get_normalized_prices(prices, b)\n",
    "get_average_daily_returns_partition_tecnalia(a, pw, 1)"
   ]
  },
  {
   "cell_type": "code",
   "execution_count": 32,
   "metadata": {},
   "outputs": [],
   "source": [
    "np.testing.assert_equal(get_qubo_covariance(npp), np.cov(selection.npp.T))\n",
    "\n",
    "np_ = get_normalized_prices(prices, b)\n",
    "a_ = get_average_daily_returns_partition_tecnalia(np_, pw)\n",
    "np.testing.assert_almost_equal(get_qubo_returns(a_), np.diag(selection.expected_returns), decimal=15)"
   ]
  },
  {
   "cell_type": "code",
   "execution_count": 36,
   "metadata": {},
   "outputs": [],
   "source": [
    "old = np.outer(selection.npp_last, selection.npp_last)\n",
    "\n",
    "n, m = prices.shape\n",
    "pw = get_partitions_granularity(w)\n",
    "np_ = get_normalized_prices(prices, b)\n",
    "npp = get_normalized_prices_partition(np_, pw)\n",
    "\n",
    "partitions_granularity_broadcast = get_partitions_granularity_broadcast(pw, m)\n",
    "new =  get_qubo_prices_quadratic(partitions_granularity_broadcast, b)\n",
    "\n",
    "np.testing.assert_equal(new, old)"
   ]
  },
  {
   "cell_type": "code",
   "execution_count": 38,
   "metadata": {},
   "outputs": [],
   "source": [
    "old = 2 * b * np.diag(selection.npp_last)\n",
    "new = get_qubo_prices_linear(partitions_granularity_broadcast, b)\n",
    "np.testing.assert_equal(new, old)"
   ]
  },
  {
   "cell_type": "code",
   "execution_count": 49,
   "metadata": {},
   "outputs": [],
   "source": [
    "old_er = selection.expected_returns\n",
    "new_er = get_average_daily_returns_partition_tecnalia(np_, pw)\n",
    "np.testing.assert_almost_equal(old_er, new_er, decimal=15)"
   ]
  },
  {
   "cell_type": "code",
   "execution_count": 52,
   "metadata": {},
   "outputs": [],
   "source": [
    "theta1 = 0.1\n",
    "theta2 = 0.1\n",
    "theta3 = 0.1\n",
    "\n",
    "old_qubo_covariance = np.cov(selection.npp.T)  # (p, p)\n",
    "\n",
    "# Set the Qubo values\n",
    "old_qubo_returns = np.diag(selection.expected_returns)  # (p, p)\n",
    "old_qubo_prices_linear = (\n",
    "    2.0 * selection.b * np.diag(selection.npp_last)\n",
    ")  # (p, p)\n",
    "old_qubo_prices_quadratic = np.outer(\n",
    "    selection.npp_last, selection.npp_last\n",
    ")  # (p, p)\n",
    "\n",
    "# Final QUBO formation, with bias and penalty values included\n",
    "old_qi = (\n",
    "    -theta1 * old_qubo_returns - theta2 * old_qubo_prices_linear\n",
    ")  # (p, p).  eq (21a)\n",
    "old_qij = (\n",
    "    theta2 * old_qubo_prices_quadratic + theta3 * old_qubo_covariance\n",
    ")  # (p, p). eq (21b)\n",
    "old_qubo = typing.cast(npt.NDArray[np.floating[typing.Any]], qi + qij)\n",
    "\n",
    "old_qubo_matrix = get_upper_triangular(old_qubo)\n",
    "old_qubo_dict = get_qubo_dict(old_qubo_matrix)"
   ]
  },
  {
   "cell_type": "code",
   "execution_count": 60,
   "metadata": {},
   "outputs": [],
   "source": [
    "n, m = prices.shape\n",
    "\n",
    "# Compute the granularity partition\n",
    "pw = get_partitions_granularity(w)\n",
    "\n",
    "# Compute the  partition of the normalized prices\n",
    "np_ = get_normalized_prices(prices, b)\n",
    "npp = get_normalized_prices_partition(np_, pw)\n",
    "\n",
    "# Compute the partitions of the average daily returns.\n",
    "# adr = get_average_daily_returns(prices)\n",
    "# adrp = get_average_daily_returns_partition(adr, pw)\n",
    "\n",
    "adrp = get_average_daily_returns_partition_tecnalia(np_, pw)\n",
    "\n",
    "# Set qubo values\n",
    "qubo_covariance = get_qubo_covariance(npp)\n",
    "qubo_returns = get_qubo_returns(adrp)\n",
    "partitions_granularity_broadcast = get_partitions_granularity_broadcast(pw, m)\n",
    "qubo_linear = get_qubo_prices_linear(partitions_granularity_broadcast, b)\n",
    "qubo_quadratic = get_qubo_prices_quadratic(partitions_granularity_broadcast, b)\n",
    "\n",
    "# Create qubo.\n",
    "qi = -theta1 * qubo_returns - theta2 * qubo_linear  # (p, p).  eq (21a)\n",
    "qij = theta2 * qubo_quadratic + theta3 * qubo_covariance  # (p, p). eq (21b)\n",
    "qubo_ = typing.cast(Array, qi + qij)\n",
    "qubo_matrix = get_upper_triangular(qubo_)\n",
    "qubo_dict = get_qubo_dict(qubo_matrix)"
   ]
  },
  {
   "cell_type": "code",
   "execution_count": 61,
   "metadata": {},
   "outputs": [],
   "source": [
    "np.testing.assert_equal(qubo_covariance, old_qubo_covariance)"
   ]
  },
  {
   "cell_type": "code",
   "execution_count": 62,
   "metadata": {},
   "outputs": [],
   "source": [
    "np.testing.assert_equal(qubo_covariance, old_qubo_covariance)"
   ]
  },
  {
   "cell_type": "code",
   "execution_count": 65,
   "metadata": {},
   "outputs": [],
   "source": [
    "np.testing.assert_almost_equal(qubo_returns, old_qubo_returns)"
   ]
  },
  {
   "cell_type": "code",
   "execution_count": 69,
   "metadata": {},
   "outputs": [],
   "source": [
    "np.testing.assert_almost_equal(qubo_matrix, old_qubo_matrix)"
   ]
  },
  {
   "cell_type": "code",
   "execution_count": 3,
   "metadata": {},
   "outputs": [
    {
     "data": {
      "text/plain": [
       "Counter({1: 2, 2: 2, 3: 1, 4: 1})"
      ]
     },
     "execution_count": 3,
     "metadata": {},
     "output_type": "execute_result"
    }
   ],
   "source": [
    "from collections import Counter\n",
    "\n",
    "c = Counter()\n",
    "for l in [[1, 2, 3], [1, 2, 4]]:\n",
    "    c.update(l)\n",
    "c"
   ]
  }
 ],
 "metadata": {
  "kernelspec": {
   "display_name": ".venv",
   "language": "python",
   "name": "python3"
  },
  "language_info": {
   "codemirror_mode": {
    "name": "ipython",
    "version": 3
   },
   "file_extension": ".py",
   "mimetype": "text/x-python",
   "name": "python",
   "nbconvert_exporter": "python",
   "pygments_lexer": "ipython3",
   "version": "3.9.9"
  },
  "orig_nbformat": 4,
  "vscode": {
   "interpreter": {
    "hash": "4e53c68c700719980650b817aed9fefb267db247c441e47a4b2ec15b097b7a7b"
   }
  }
 },
 "nbformat": 4,
 "nbformat_minor": 2
}
