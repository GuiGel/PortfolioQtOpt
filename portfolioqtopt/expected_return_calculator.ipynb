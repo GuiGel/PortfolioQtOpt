{
 "cells": [
  {
   "attachments": {},
   "cell_type": "markdown",
   "metadata": {},
   "source": [
    "Here we verify that the actual function ``expected_return_calculator.get_expected_returns`` is probably not computing the desired returns."
   ]
  },
  {
   "cell_type": "code",
   "execution_count": 1,
   "metadata": {},
   "outputs": [],
   "source": [
    "from portfolioqtopt.reader import read_welzia_stocks_file\n",
    "\n",
    "df = read_welzia_stocks_file(\"/home/ggelabert/Projects/PortfolioQtOpt/data/Histórico_carteras_Welzia_2018.xlsm\", \"BBG (valores)\",)\n",
    "prices = df.to_numpy()"
   ]
  },
  {
   "cell_type": "code",
   "execution_count": 2,
   "metadata": {},
   "outputs": [],
   "source": [
    "from portfolioqtopt.expand_prices import get_expand_prices\n",
    "\n",
    "budget = 1.0\n",
    "granularity_depth = 5\n",
    "\n",
    "expand = get_expand_prices(prices, granularity_depth, budget)"
   ]
  },
  {
   "cell_type": "code",
   "execution_count": 3,
   "metadata": {},
   "outputs": [],
   "source": [
    "from portfolioqtopt.expected_return_calculator import get_expected_returns\n",
    "\n",
    "expected_returns = get_expected_returns(expand.data)  # (p,)"
   ]
  },
  {
   "attachments": {},
   "cell_type": "markdown",
   "metadata": {},
   "source": [
    "Now we are going to compute expected_returns in a less strange manner!"
   ]
  },
  {
   "cell_type": "code",
   "execution_count": 4,
   "metadata": {},
   "outputs": [],
   "source": [
    "from portfolioqtopt.expand_prices import get_slices_list\n",
    "\n",
    "m, n = prices.shape\n",
    "a = 1 / (m-1) * (prices[-1] -prices[0]) / prices[-1]\n",
    "\n",
    "granularity = get_slices_list(granularity_depth)\n",
    "reconstruct_expected_returns = (a.reshape(-1, 1)*granularity.reshape(1, -1)).flatten()"
   ]
  },
  {
   "cell_type": "code",
   "execution_count": 5,
   "metadata": {},
   "outputs": [],
   "source": [
    "import numpy as np\n",
    "\n",
    "np.testing.assert_allclose(expected_returns, reconstruct_expected_returns)"
   ]
  },
  {
   "attachments": {},
   "cell_type": "markdown",
   "metadata": {},
   "source": [
    "We can conclude that surely the ``get_expected_returns`` function is not doing the wright calculus. If what we are expecting is the daily return we must rewrite this function.\n",
    "\n",
    "The following code seems to be more correct!"
   ]
  },
  {
   "cell_type": "code",
   "execution_count": 23,
   "metadata": {},
   "outputs": [
    {
     "data": {
      "text/plain": [
       "(374, 225)"
      ]
     },
     "execution_count": 23,
     "metadata": {},
     "output_type": "execute_result"
    }
   ],
   "source": [
    ", n = prices.shape\n",
    "daily_returns = (prices[1:] - prices[:-1]) / prices[:-1]\n",
    "granularity = get_slices_list(granularity_depth)\n",
    "granular_daily_returns = (daily_returns.reshape(-1, 1)*granularity.reshape(1, -1)).reshape(-1, n * granularity_depth)\n",
    "expected_returns = granular_daily_returns.mean(axis=0)\n",
    "granular_daily_returns.shape"
   ]
  },
  {
   "cell_type": "code",
   "execution_count": 24,
   "metadata": {},
   "outputs": [],
   "source": [
    "m, n = prices.shape\n",
    "daily_returns = ((prices[1:] - prices[:-1]) / prices[:-1]).mean(axis=0)\n",
    "granularity = get_slices_list(granularity_depth)\n",
    "granular_daily_returns = (daily_returns[:, np.newaxis]*granularity[np.newaxis, :]).reshape(-1, n * granularity_depth)\n",
    "expected_returns_ = granular_daily_returns.mean(axis=0)"
   ]
  },
  {
   "cell_type": "code",
   "execution_count": 25,
   "metadata": {},
   "outputs": [],
   "source": [
    "np.testing.assert_allclose(expected_returns, expected_returns_)"
   ]
  },
  {
   "cell_type": "code",
   "execution_count": null,
   "metadata": {},
   "outputs": [],
   "source": []
  }
 ],
 "metadata": {
  "kernelspec": {
   "display_name": ".venv",
   "language": "python",
   "name": "python3"
  },
  "language_info": {
   "codemirror_mode": {
    "name": "ipython",
    "version": 3
   },
   "file_extension": ".py",
   "mimetype": "text/x-python",
   "name": "python",
   "nbconvert_exporter": "python",
   "pygments_lexer": "ipython3",
   "version": "3.9.9"
  },
  "orig_nbformat": 4,
  "vscode": {
   "interpreter": {
    "hash": "4e53c68c700719980650b817aed9fefb267db247c441e47a4b2ec15b097b7a7b"
   }
  }
 },
 "nbformat": 4,
 "nbformat_minor": 2
}
